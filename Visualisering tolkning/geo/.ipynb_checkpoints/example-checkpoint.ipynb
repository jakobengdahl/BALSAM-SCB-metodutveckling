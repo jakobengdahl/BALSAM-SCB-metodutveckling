{
 "cells": [
  {
   "cell_type": "code",
   "execution_count": null,
   "id": "181dde35-526a-4f9a-8789-44d341096f94",
   "metadata": {},
   "outputs": [],
   "source": [
    "import pydeck as pdk\n",
    "\n",
    "# 2014 locations of car accidents in the UK\n",
    "UK_ACCIDENTS_DATA = ('https://raw.githubusercontent.com/uber-common/'\n",
    "                     'deck.gl-data/master/examples/3d-heatmap/heatmap-data.csv')"
   ]
  },
  {
   "cell_type": "code",
   "execution_count": null,
   "id": "8cb06372-df47-4ebd-901a-12ec993ffacf",
   "metadata": {},
   "outputs": [],
   "source": [
    "# Define a layer to display on a map\n",
    "layer = pdk.Layer(\n",
    "    'HexagonLayer',\n",
    "    UK_ACCIDENTS_DATA,\n",
    "    get_position=['lng', 'lat'],\n",
    "    auto_highlight=True,\n",
    "    elevation_scale=50,\n",
    "    pickable=True,\n",
    "    elevation_range=[0, 3000],\n",
    "    extruded=True,                 \n",
    "    coverage=1)"
   ]
  },
  {
   "cell_type": "code",
   "execution_count": null,
   "id": "a41c3439-a5d1-4c29-abed-c154adbf931d",
   "metadata": {},
   "outputs": [],
   "source": [
    "# Set the viewport location\n",
    "view_state = pdk.ViewState(\n",
    "    longitude=-1.415,\n",
    "    latitude=52.2323,\n",
    "    zoom=6,\n",
    "    min_zoom=5,\n",
    "    max_zoom=15,\n",
    "    pitch=40.5,\n",
    "    bearing=-27.36)\n",
    "\n"
   ]
  },
  {
   "cell_type": "code",
   "execution_count": 12,
   "id": "83c37436-e3ef-49fd-b1b2-365fe93c603d",
   "metadata": {},
   "outputs": [
    {
     "data": {
      "text/html": [
       "\n",
       "        <iframe\n",
       "            width=\"100%\"\n",
       "            height=500\n",
       "            frameborder=\"0\"\n",
       "            srcdoc=\"&lt;!DOCTYPE html&gt;\n",
       "&lt;html&gt;\n",
       "  &lt;head&gt;\n",
       "    &lt;meta http-equiv=&quot;content-type&quot; content=&quot;text/html; charset=UTF-8&quot; /&gt;\n",
       "    &lt;title&gt;pydeck&lt;/title&gt;\n",
       "        &lt;script src=&quot;https://api.tiles.mapbox.com/mapbox-gl-js/v1.13.0/mapbox-gl.js&quot;&gt;&lt;/script&gt;\n",
       "        &lt;link rel=&quot;stylesheet&quot; href=&quot;https://maxcdn.bootstrapcdn.com/bootstrap/3.2.0/css/bootstrap-theme.min.css&quot; /&gt;\n",
       "    &lt;link rel=&quot;stylesheet&quot; href=&quot;https://maxcdn.bootstrapcdn.com/font-awesome/4.6.3/css/font-awesome.min.css&quot; /&gt;\n",
       "    &lt;script src=&#x27;https://cdn.jsdelivr.net/npm/@deck.gl/jupyter-widget@~8.5.*/dist/index.js&#x27;&gt;&lt;/script&gt;\n",
       "    &lt;style&gt;\n",
       "    body {\n",
       "  margin: 0;\n",
       "  padding: 0;\n",
       "  overflow: hidden;\n",
       "}\n",
       "\n",
       "#deck-map-container {\n",
       "  width: 100%;\n",
       "  height: 100%;\n",
       "  background-color: black;\n",
       "}\n",
       "\n",
       "#map {\n",
       "  pointer-events: none;\n",
       "  height: 100%;\n",
       "  width: 100%;\n",
       "  position: absolute;\n",
       "  z-index: 1;\n",
       "}\n",
       "\n",
       "#deckgl-overlay {\n",
       "  z-index: 2;\n",
       "  background: none;\n",
       "}\n",
       "\n",
       "#deck-map-wrapper {\n",
       "  width: 100%;\n",
       "  height: 100%;\n",
       "}\n",
       "\n",
       "#deck-container {\n",
       "  width: 100vw;\n",
       "  height: 100vh;\n",
       "}\n",
       "    &lt;/style&gt;\n",
       "  &lt;/head&gt;\n",
       "  &lt;body&gt;\n",
       "    &lt;div id=&quot;deck-container&quot;&gt;\n",
       "    &lt;/div&gt;\n",
       "  &lt;/body&gt;\n",
       "  &lt;script&gt;\n",
       "    const jsonInput = {&quot;initialViewState&quot;: {&quot;bearing&quot;: -27.36, &quot;latitude&quot;: 52.2323, &quot;longitude&quot;: -1.415, &quot;maxZoom&quot;: 15, &quot;minZoom&quot;: 5, &quot;pitch&quot;: 40.5, &quot;zoom&quot;: 6}, &quot;layers&quot;: [{&quot;@@type&quot;: &quot;HexagonLayer&quot;, &quot;autoHighlight&quot;: true, &quot;coverage&quot;: 1, &quot;data&quot;: &quot;https://raw.githubusercontent.com/uber-common/deck.gl-data/master/examples/3d-heatmap/heatmap-data.csv&quot;, &quot;elevationRange&quot;: [0, 3000], &quot;elevationScale&quot;: 50, &quot;extruded&quot;: true, &quot;getPosition&quot;: &quot;@@=[lng, lat]&quot;, &quot;id&quot;: &quot;944b0312-a738-4989-b6b1-82176237f197&quot;, &quot;pickable&quot;: true}], &quot;mapProvider&quot;: &quot;carto&quot;, &quot;mapStyle&quot;: &quot;https://basemaps.cartocdn.com/gl/dark-matter-gl-style/style.json&quot;, &quot;views&quot;: [{&quot;@@type&quot;: &quot;MapView&quot;, &quot;controller&quot;: true}]};\n",
       "    const tooltip = true;\n",
       "    const customLibraries = null;\n",
       "\n",
       "    const deckInstance = createDeck({\n",
       "                  container: document.getElementById(&#x27;deck-container&#x27;),\n",
       "      jsonInput,\n",
       "      tooltip,\n",
       "      customLibraries\n",
       "    });\n",
       "\n",
       "  &lt;/script&gt;\n",
       "&lt;/html&gt;\"\n",
       "        ></iframe>\n",
       "    "
      ],
      "text/plain": [
       "<IPython.core.display.HTML object>"
      ]
     },
     "execution_count": 12,
     "metadata": {},
     "output_type": "execute_result"
    }
   ],
   "source": [
    "# Render\n",
    "r = pdk.Deck(layers=[layer], initial_view_state=view_state)\n",
    "r.to_html('demo.html')\n",
    "#r.to_html('demo.html', notebook_display=False)"
   ]
  },
  {
   "cell_type": "code",
   "execution_count": null,
   "id": "29cd613a-3414-462b-853e-38cc8a9eef11",
   "metadata": {},
   "outputs": [],
   "source": []
  }
 ],
 "metadata": {
  "kernelspec": {
   "display_name": "Python 3 (ipykernel)",
   "language": "python",
   "name": "python3"
  },
  "language_info": {
   "codemirror_mode": {
    "name": "ipython",
    "version": 3
   },
   "file_extension": ".py",
   "mimetype": "text/x-python",
   "name": "python",
   "nbconvert_exporter": "python",
   "pygments_lexer": "ipython3",
   "version": "3.9.7"
  }
 },
 "nbformat": 4,
 "nbformat_minor": 5
}
