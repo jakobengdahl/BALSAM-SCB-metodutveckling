{
 "cells": [
  {
   "cell_type": "markdown",
   "id": "5df28d16-1ff2-4b61-b2db-d284703e1912",
   "metadata": {},
   "source": [
    "Python\n",
    "\n",
    "### Exempel på att man kan kombinera text, formler, kod och visualiseringar"
   ]
  },
  {
   "cell_type": "code",
   "execution_count": null,
   "id": "a92507c0-888c-4fad-a84e-09fb143ad187",
   "metadata": {},
   "outputs": [],
   "source": []
  },
  {
   "cell_type": "markdown",
   "id": "b204fd16-b4ef-487a-b12a-cf346448e8e6",
   "metadata": {},
   "source": [
    "$$\n",
    "\\underbrace{\\ln \\left( \\frac{5}{6} \\right)}_{\\simeq -0.1823}\n",
    "< \\overbrace{\\exp (2)}^{\\simeq 7.3890}\n",
    "$$"
   ]
  },
  {
   "cell_type": "markdown",
   "id": "74e1b75c-5b4f-4578-afbf-9eefa50f985b",
   "metadata": {},
   "source": [
    "Sum from 0 to +inf:\n",
    "\n",
    "$$\\sum_{j=0}^{+\\infty} A_{j}$$\n",
    "\n",
    "Double sum:\n",
    "$$\\sum^k_{i=66}\\sum^{l+1}_{j=1}\\,A_i A_j$$\t\n",
    "\n",
    "\n",
    "Taylor expansion of $e^x$:\n",
    "$$ e^x  = \\sum_{k=0}^{n}\\, \\frac{x^k}{k!} + o(x^n) $$ "
   ]
  },
  {
   "cell_type": "code",
   "execution_count": null,
   "id": "ee838c28-133b-4ec6-8d25-282e91311fd1",
   "metadata": {},
   "outputs": [],
   "source": [
    "# Display first 55 rows\n",
    "df.head(5)"
   ]
  },
  {
   "cell_type": "code",
   "execution_count": null,
   "id": "f2e49b36-78d6-435b-b9e2-616efeeb93c3",
   "metadata": {},
   "outputs": [],
   "source": []
  }
 ],
 "metadata": {
  "kernelspec": {
   "display_name": "Python 3 (ipykernel)",
   "language": "python",
   "name": "python3"
  },
  "language_info": {
   "codemirror_mode": {
    "name": "ipython",
    "version": 3
   },
   "file_extension": ".py",
   "mimetype": "text/x-python",
   "name": "python",
   "nbconvert_exporter": "python",
   "pygments_lexer": "ipython3",
   "version": "3.9.7"
  },
  "toc-autonumbering": false,
  "toc-showcode": false,
  "toc-showtags": false
 },
 "nbformat": 4,
 "nbformat_minor": 5
}
